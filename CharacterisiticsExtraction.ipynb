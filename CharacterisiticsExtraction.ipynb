{
 "metadata": {
  "language_info": {
   "codemirror_mode": {
    "name": "ipython",
    "version": 3
   },
   "file_extension": ".py",
   "mimetype": "text/x-python",
   "name": "python",
   "nbconvert_exporter": "python",
   "pygments_lexer": "ipython3",
   "version": "3.9.6"
  },
  "orig_nbformat": 4,
  "kernelspec": {
   "name": "python3",
   "display_name": "Python 3.9.6 64-bit"
  },
  "interpreter": {
   "hash": "93efbefd48bb3483f6f956ede92687b357a203165174b5ae1240e3fe00af8deb"
  }
 },
 "nbformat": 4,
 "nbformat_minor": 2,
 "cells": [
  {
   "source": [
    "# Final Feature Extraction Summarized"
   ],
   "cell_type": "markdown",
   "metadata": {}
  },
  {
   "source": [
    "## A1 Features Extraction"
   ],
   "cell_type": "markdown",
   "metadata": {}
  },
  {
   "cell_type": "code",
   "execution_count": 1,
   "metadata": {},
   "outputs": [
    {
     "output_type": "stream",
     "name": "stderr",
     "text": [
      "C:\\Users\\Niyati\\AppData\\Local\\Temp/ipykernel_23108/1565817940.py:11: SettingWithCopyWarning: \nA value is trying to be set on a copy of a slice from a DataFrame\n\nSee the caveats in the documentation: https://pandas.pydata.org/pandas-docs/stable/user_guide/indexing.html#returning-a-view-versus-a-copy\n  df[item][i] = line.count(item)\n"
     ]
    }
   ],
   "source": [
    "\n",
    "import pandas as pd \n",
    "from collections import Counter\n",
    "df=pd.read_csv('DataA1.csv')\n",
    "i = -1\n",
    "l = list({'A', 'C', 'D', 'E', 'F', 'G', 'H', 'I', 'K', 'L', 'M', 'N', 'P', 'Q', 'R', 'S', 'T', 'V', 'W', 'Y'})\n",
    "dic = dict({'A' : 0, 'C' : 0, 'D' : 0, 'E' : 0, 'F' : 0, 'G' : 0, 'H' : 0, 'I' : 0, 'K' : 0, 'L' : 0, 'M' : 0, 'N' : 0, 'P' : 0, 'Q' : 0, 'R' : 0, 'S' : 0, 'T' : 0, 'V' : 0, 'W' : 0, 'Y' : 0 })\n",
    "#for line in df['String']: \n",
    "for line in df['String']:\n",
    "    i = i+ 1\n",
    "    for item in l:\n",
    "        df[item][i] = line.count(item)\n",
    "\n",
    "\n",
    "df.to_csv('ResultA1.csv')"
   ]
  },
  {
   "source": [
    "## E1 Features Extraction\n"
   ],
   "cell_type": "markdown",
   "metadata": {}
  },
  {
   "cell_type": "code",
   "execution_count": 4,
   "metadata": {},
   "outputs": [
    {
     "output_type": "stream",
     "name": "stderr",
     "text": [
      "C:\\Users\\Niyati\\AppData\\Local\\Temp/ipykernel_23108/3265772899.py:9: SettingWithCopyWarning: \nA value is trying to be set on a copy of a slice from a DataFrame\n\nSee the caveats in the documentation: https://pandas.pydata.org/pandas-docs/stable/user_guide/indexing.html#returning-a-view-versus-a-copy\n  df1[a][j] = df1[a][j] + 1\n"
     ]
    }
   ],
   "source": [
    "dic2 = dict({'H': 1, 'R': 1, 'K': 1, 'D': 2, 'E': 2, 'N': 2, 'Q': 2, 'C': 3, 'S': 4, 'T': 4, 'P': 4, 'A':4, 'G': 4, 'M': 5, 'I': 5, 'L': 5, 'V': 5, 'F': 6, 'Y': 6, 'W': 6})\n",
    "df1 = pd.read_csv('DataE1.csv')\n",
    "j = -1\n",
    "for line in df1['String']:\n",
    "    j = j+1\n",
    "    for char in line:\n",
    "        val = dic2[char]\n",
    "        a = str(val)\n",
    "        df1[a][j] = df1[a][j] + 1\n",
    "\n",
    "df1.to_csv('ResultE1.csv')"
   ]
  },
  {
   "source": [
    "## E2 Features Extraction"
   ],
   "cell_type": "markdown",
   "metadata": {}
  },
  {
   "cell_type": "code",
   "execution_count": 5,
   "metadata": {},
   "outputs": [
    {
     "output_type": "stream",
     "name": "stderr",
     "text": [
      "C:\\Users\\Niyati\\AppData\\Local\\Temp/ipykernel_23108/878404911.py:12: SettingWithCopyWarning: \nA value is trying to be set on a copy of a slice from a DataFrame\n\nSee the caveats in the documentation: https://pandas.pydata.org/pandas-docs/stable/user_guide/indexing.html#returning-a-view-versus-a-copy\n  df2[a][k] = df2[a][k] + 1\n"
     ]
    }
   ],
   "source": [
    "dic2 = dict({'H': 1, 'R': 1, 'K': 1, 'D': 2, 'E': 2, 'N': 2, 'Q': 2, 'C': 3, 'S': 4, 'T': 4, 'P': 4, 'A':4, 'G': 4, 'M': 5, 'I': 5, 'L': 5, 'V': 5, 'F': 6, 'Y': 6, 'W': 6})\n",
    "df2 = pd.read_csv('DataE2.csv')\n",
    "k = -1\n",
    "for line in df2['String']:\n",
    "    k = k+1\n",
    "    l = len(line)\n",
    "    s = ''\n",
    "    for i in range(0, l-1):\n",
    "        val1 = dic2[line[i]]\n",
    "        val2 = dic2[line[i+1]]\n",
    "        a = 'e2'+ str(val1) + str(val2)\n",
    "        df2[a][k] = df2[a][k] + 1\n",
    "\n",
    "df2.to_csv('ResultE2.csv')"
   ]
  }
 ]
}